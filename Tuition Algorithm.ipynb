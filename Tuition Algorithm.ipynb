{
 "cells": [
  {
   "cell_type": "code",
   "execution_count": 101,
   "id": "4ac4ac02",
   "metadata": {},
   "outputs": [
    {
     "name": "stdout",
     "output_type": "stream",
     "text": [
      "Enter school name: UST\n",
      "Enter current number of students at UST: 50\n",
      "Enter past board exam percentage at UST: 60\n",
      "Enter past outreach success probability at UST: 90\n",
      "Predicted Tuition Amount at UST: Php 14707.50\n"
     ]
    }
   ],
   "source": [
    "class TuitionPredictor:\n",
    "    def __init__(self, target_school):\n",
    "        self.target_school = target_school\n",
    "\n",
    "    def calculate_tuition(self, max_tuition, min_tuition):\n",
    "        # Simplified linear formula\n",
    "        num_students_factor = (100 - self.target_school['num_students']) / 100.0\n",
    "        passing_percentage_factor = (100 - self.target_school['passing_percentage']) / 100.0\n",
    "        outreach_success_factor = self.target_school['past_outreach_success_probability'] / 100.0\n",
    "\n",
    "        tuition = min_tuition + (max_tuition - min_tuition) * (\n",
    "            0.4 * num_students_factor + 0.3 * passing_percentage_factor + 0.3 * outreach_success_factor\n",
    "        )\n",
    "\n",
    "        return tuition\n",
    "\n",
    "# Example usage\n",
    "if __name__ == \"__main__\":\n",
    "    # Input parameters\n",
    "    school_name = input(\"Enter school name: \")\n",
    "    num_students = int(input(f\"Enter current number of students at {school_name}: \"))\n",
    "    passing_percentage = float(input(f\"Enter past board exam percentage at {school_name}: \"))\n",
    "    past_outreach_success_probability = float(input(f\"Enter past outreach success probability at {school_name}: \"))\n",
    "\n",
    "    # School details\n",
    "    target_school = {\n",
    "        'name': school_name,\n",
    "        'num_students': num_students,\n",
    "        'passing_percentage': passing_percentage,\n",
    "        'past_outreach_success_probability': past_outreach_success_probability\n",
    "    }\n",
    "\n",
    "    # Tuition range\n",
    "    max_tuition = 18500\n",
    "    min_tuition = 9250\n",
    "\n",
    "    # Initialize TuitionPredictor\n",
    "    tuition_predictor = TuitionPredictor(target_school)\n",
    "\n",
    "    # Calculate and display the predicted tuition amount\n",
    "    predicted_tuition = tuition_predictor.calculate_tuition(max_tuition, min_tuition)\n",
    "    print(f\"Predicted Tuition Amount at {school_name}: Php {predicted_tuition:.2f}\")\n"
   ]
  }
 ],
 "metadata": {
  "kernelspec": {
   "display_name": "Python 3 (ipykernel)",
   "language": "python",
   "name": "python3"
  },
  "language_info": {
   "codemirror_mode": {
    "name": "ipython",
    "version": 3
   },
   "file_extension": ".py",
   "mimetype": "text/x-python",
   "name": "python",
   "nbconvert_exporter": "python",
   "pygments_lexer": "ipython3",
   "version": "3.10.9"
  }
 },
 "nbformat": 4,
 "nbformat_minor": 5
}
